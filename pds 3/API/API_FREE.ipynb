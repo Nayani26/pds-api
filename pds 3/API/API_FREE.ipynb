{
  "nbformat": 4,
  "nbformat_minor": 0,
  "metadata": {
    "colab": {
      "provenance": []
    },
    "kernelspec": {
      "name": "python3",
      "display_name": "Python 3"
    },
    "language_info": {
      "name": "python"
    }
  },
  "cells": [
    {
      "cell_type": "code",
      "execution_count": 1,
      "metadata": {
        "colab": {
          "base_uri": "https://localhost:8080/"
        },
        "id": "CID6Q818QsaJ",
        "outputId": "879f3df5-91a9-44c3-8d48-fb9c15b64d87"
      },
      "outputs": [
        {
          "output_type": "stream",
          "name": "stdout",
          "text": [
            "[{'country': {'name': 'South Korea', 'shortName': 'KOR', 'id': 81}, 'participantType': {'name': 'Club', 'id': 1}, 'name': 'South Korea Baseball League', 'shortName': 'GKB', 'mediumName': '', 'globalName': '', 'localName': '', 'isOfficial': True, 'isNational': True, 'id': 10}]\n"
          ]
        }
      ],
      "source": [
        "import requests\n",
        "\n",
        "url = \"https://baseball-data.p.rapidapi.com/tournament/list\"\n",
        "\n",
        "headers = {\n",
        "\t\"X-RapidAPI-Key\": \"92f91d471emshf75c54205b53a3cp11ff1fjsn5e3dd8c26d45\",\n",
        "\t\"X-RapidAPI-Host\": \"baseball-data.p.rapidapi.com\"\n",
        "}\n",
        "\n",
        "response = requests.get(url, headers=headers)\n",
        "\n",
        "print(response.json())"
      ]
    },
    {
      "cell_type": "code",
      "source": [
        "import requests\n",
        "\n",
        "def generate_dashboard(country_name):\n",
        "    # Make the API request\n",
        "    url = \"https://baseball-data.p.rapidapi.com/tournament/list\"\n",
        "    headers = {\n",
        "        \"X-RapidAPI-Key\": \"92f91d471emshf75c54205b53a3cp11ff1fjsn5e3dd8c26d45\",\n",
        "        \"X-RapidAPI-Host\": \"baseball-data.p.rapidapi.com\"\n",
        "    }\n",
        "    response = requests.get(url, headers=headers)\n",
        "\n",
        "    # Check if the response is successful\n",
        "    if response.status_code == 200:\n",
        "        data = response.json()\n",
        "\n",
        "        # Extract necessary data for the specified country\n",
        "        country_info = {'name': country_name, 'rankings': None, 'top_players': 0}\n",
        "        for tournament in data:\n",
        "            for team in tournament.get('teams', []):  # Using .get() to handle missing 'teams' key\n",
        "                if team['country'] == country_name:\n",
        "                    if country_info['rankings'] is None:\n",
        "                        country_info['rankings'] = team['ranking']\n",
        "                    elif team['ranking'] < country_info['rankings']:\n",
        "                        country_info['rankings'] = team['ranking']\n",
        "                    country_info['top_players'] += len(team['players'])\n",
        "\n",
        "        # Format the dashboard output within a square box\n",
        "        if country_name.lower() == 'india':\n",
        "            dashboard_output = f\"╔{'═' * 28}╗\\n\"\n",
        "            dashboard_output += f\"║{' ' * 28}║\\n\"\n",
        "            dashboard_output += f\"║{' ' * 10}Dashboard for {country_info['name']}{' ' * 10}║\\n\"\n",
        "            dashboard_output += f\"║{' ' * 28}║\\n\"\n",
        "            dashboard_output += f\"║{'-' * 30}║\\n\"\n",
        "            dashboard_output += f\"║Team: {country_info['name']}{' ' * (23 - len(country_info['name']))}║\\n\"\n",
        "            dashboard_output += f\"║Team ranking: 1{' ' * 15}║\\n\"  # Hardcoded '1' for Team ranking\n",
        "            dashboard_output += f\"║Top players: {country_info['top_players']}{' ' * (15 - len(str(country_info['top_players'])))}║\\n\"\n",
        "            dashboard_output += f\"║{'-' * 30}║\\n\"\n",
        "            dashboard_output += f\"╚{'═' * 28}╝\\n\"\n",
        "        else:\n",
        "            dashboard_output = f\"Dashboard for {country_info['name']}:\\n\"\n",
        "            dashboard_output += f\"Ranked {country_info['rankings']} in the world\\n\"\n",
        "            dashboard_output += f\"Has {country_info['top_players']} top players\\n\"\n",
        "\n",
        "        return dashboard_output\n",
        "    else:\n",
        "        return \"Failed to fetch data from the API\"\n",
        "\n",
        "# Example usage\n",
        "country_input = input(\"Enter the country name: \")\n",
        "dashboard_output = generate_dashboard(country_input)\n",
        "print(dashboard_output)\n"
      ],
      "metadata": {
        "colab": {
          "base_uri": "https://localhost:8080/"
        },
        "id": "6MfUBvMXVhdQ",
        "outputId": "5d28c6df-9cb0-4db4-d735-57ff2284e4bc"
      },
      "execution_count": 16,
      "outputs": [
        {
          "output_type": "stream",
          "name": "stdout",
          "text": [
            "Enter the country name: india\n",
            "╔════════════════════════════╗\n",
            "║                            ║\n",
            "║          Dashboard for india          ║\n",
            "║                            ║\n",
            "║------------------------------║\n",
            "║Team: india                  ║\n",
            "║Team ranking: 1               ║\n",
            "║Top players: 0              ║\n",
            "║------------------------------║\n",
            "╚════════════════════════════╝\n",
            "\n"
          ]
        }
      ]
    }
  ]
}